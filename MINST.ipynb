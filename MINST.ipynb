{
  "nbformat": 4,
  "nbformat_minor": 0,
  "metadata": {
    "accelerator": "GPU",
    "colab": {
      "provenance": [],
      "include_colab_link": true
    },
    "kernelspec": {
      "display_name": "Python 3",
      "language": "python",
      "name": "python3"
    },
    "language_info": {
      "codemirror_mode": {
        "name": "ipython",
        "version": 3
      },
      "file_extension": ".py",
      "mimetype": "text/x-python",
      "name": "python",
      "nbconvert_exporter": "python",
      "pygments_lexer": "ipython3",
      "version": "3.8.5"
    }
  },
  "cells": [
    {
      "cell_type": "markdown",
      "metadata": {
        "id": "view-in-github",
        "colab_type": "text"
      },
      "source": [
        "<a href=\"https://colab.research.google.com/github/begumtekoz/MINST_assignment/blob/main/MINST.ipynb\" target=\"_parent\"><img src=\"https://colab.research.google.com/assets/colab-badge.svg\" alt=\"Open In Colab\"/></a>"
      ]
    },
    {
      "cell_type": "code",
      "metadata": {
        "id": "5t5EnxeH0hb0"
      },
      "source": [
        "import torch, torchvision\n",
        "from torch.utils.data import DataLoader\n",
        "import matplotlib.pyplot as plt\n",
        "import numpy as np"
      ],
      "execution_count": null,
      "outputs": []
    },
    {
      "cell_type": "code",
      "metadata": {
        "colab": {
          "base_uri": "https://localhost:8080/",
          "height": 1000
        },
        "id": "Pa4sYAo00hb9",
        "outputId": "60e3e752-600a-4960-919c-bc59ee501ec0"
      },
      "source": [
        "#The MNIST dataset is about 12 MB and will be downloaded automatically if it is not located in the given path.\n",
        "mnist = torchvision.datasets.MNIST('./', train=True, download=True, transform=torchvision.transforms.ToTensor())\n",
        "\n",
        "#Helper for visualization\n",
        "def torch_imshow(img):\n",
        "    img = img[0]\n",
        "    plt.imshow(img.cpu().numpy())\n",
        "    plt.show()\n",
        "\n",
        "#Visualize first 5 samples\n",
        "for n in range(5):\n",
        "    sample = mnist[n]\n",
        "    img, label = sample\n",
        "    plt.figure()\n",
        "    plt.title(f'This is a {label}')\n",
        "    torch_imshow(img)\n"
      ],
      "execution_count": null,
      "outputs": [
        {
          "output_type": "display_data",
          "data": {
            "image/png": "[encoded data removed]",
            "text/plain": [
              "<Figure size 432x288 with 1 Axes>"
            ]
          },
          "metadata": {
            "needs_background": "light"
          }
        },
        {
          "output_type": "display_data",
          "data": {
            "image/png": "[encoded data removed]",
            "text/plain": [
              "<Figure size 432x288 with 1 Axes>"
            ]
          },
          "metadata": {
            "needs_background": "light"
          }
        },
        {
          "output_type": "display_data",
          "data": {
            "image/png": "[encoded data removed]",
            "text/plain": [
              "<Figure size 432x288 with 1 Axes>"
            ]
          },
          "metadata": {
            "needs_background": "light"
          }
        },
        {
          "output_type": "display_data",
          "data": {
            "image/png": "[encoded data removed]",
            "text/plain": [
              "<Figure size 432x288 with 1 Axes>"
            ]
          },
          "metadata": {
            "needs_background": "light"
          }
        },
        {
          "output_type": "display_data",
          "data": {
            "image/png": "[encoded data removed]",
            "text/plain": [
              "<Figure size 432x288 with 1 Axes>"
            ]
          },
          "metadata": {
            "needs_background": "light"
          }
        }
      ]
    },
    {
      "cell_type": "code",
      "metadata": {
        "id": "qGnmq4yr0hcC"
      },
      "source": [
        "## Create a dataloader batch size of 16\n",
        "## Hint: Check pytorch tutorial page nn.dataloader\n",
        "\n",
        "train_dataloader = torch.utils.data.DataLoader(mnist, batch_size=16, shuffle=True) ##FILL HERE##"
      ],
      "execution_count": null,
      "outputs": []
    },
    {
      "cell_type": "code",
      "metadata": {
        "id": "nbxcSt1c0hcG"
      },
      "source": [
        "## Create a 1 layer fully connected network without any activation\n",
        "##Hint1:Mnist dataset contains 28x28 grayscale images and contains 10 different classes(0 to 9)\n",
        "##Hint2:You will need to override __init__ and forward function to make network work\n",
        "\n",
        "class OneLayerNetwork(torch.nn.Module):\n",
        "    def __init__(self):\n",
        "        super().__init__()\n",
        "        self.layer1 = torch.nn.Linear(784,10) ##FILL HERE##\n",
        "\n",
        "    def forward(self, x):\n",
        "        x = self.layer1(x)\n",
        "        return x\n",
        "\n"
      ],
      "execution_count": null,
      "outputs": []
    },
    {
      "cell_type": "code",
      "metadata": {
        "colab": {
          "base_uri": "https://localhost:8080/"
        },
        "id": "Xd-rMx7UE30B",
        "outputId": "c3997eda-ca4f-4278-f710-c60a731cef87"
      },
      "source": [
        "one_layer_net = OneLayerNetwork().cuda()\n",
        "\n",
        "dummy_input = torch.randn(16, 784, device='cuda') #You can create tensors in GPU directly instead of .cuda()\n",
        "dummy_output = one_layer_net(dummy_input)\n",
        "\n",
        "print(f'Dummy input shape: {dummy_input.shape}')\n",
        "print(f'Dummy output shape: {dummy_output.shape}')"
      ],
      "execution_count": null,
      "outputs": [
        {
          "output_type": "stream",
          "name": "stdout",
          "text": [
            "Dummy input shape: torch.Size([16, 784])\n",
            "Dummy output shape: torch.Size([16, 10])\n"
          ]
        }
      ]
    },
    {
      "cell_type": "code",
      "metadata": {
        "colab": {
          "base_uri": "https://localhost:8080/"
        },
        "id": "znwmwiYo0hcJ",
        "outputId": "b2486fdd-97e8-471e-d8ac-ee6f8767d3b2"
      },
      "source": [
        "# Define an SGD optimizer with learning rate 0.001 to optimize the parameters of \"one_layer_net\"\n",
        "sgd_optimizer = torch.optim.SGD(one_layer_net.parameters(), lr=0.001)\n",
        "print(sgd_optimizer)"
      ],
      "execution_count": null,
      "outputs": [
        {
          "output_type": "stream",
          "name": "stdout",
          "text": [
            "SGD (\n",
            "Parameter Group 0\n",
            "    dampening: 0\n",
            "    lr: 0.001\n",
            "    momentum: 0\n",
            "    nesterov: False\n",
            "    weight_decay: 0\n",
            ")\n"
          ]
        }
      ]
    },
    {
      "cell_type": "code",
      "metadata": {
        "id": "7mqxmkXz0hcL"
      },
      "source": [
        "## Decide which loss function to use from torch.nn module and define it below\n",
        "# Hint1: The network does 'not' include a softmax activation at the output.\n",
        "# Hint2: We are doing multi class classification task with 10 parameters.\n",
        "\n",
        "loss_fn = torch.nn.CrossEntropyLoss() ##FILL HERE##"
      ],
      "execution_count": null,
      "outputs": []
    },
    {
      "cell_type": "code",
      "metadata": {
        "id": "xKOZ8G5W0hcO"
      },
      "source": [
        "##Warning: Don't re-run this block multiple times.\n",
        "##Running this part will continue to train the model.\n",
        "##First, restart the kernel Runtime->restart runtime(or restart and run all), then re-run your code.\n",
        "\n",
        "loss_list = [] #To plot loss graph later\n",
        "\n",
        "for train_images, train_labels in train_dataloader:\n",
        "    ## Move data to GPU\n",
        "    train_images, train_labels = train_images.cuda(), train_labels.cuda()\n",
        "\n",
        "    ## Flatten the images\n",
        "    flat_images = train_images.reshape(-1, 784)\n",
        "\n",
        "    ## Run the network with flattened images\n",
        "    class_scores =one_layer_net(flat_images) ## FILL HERE\n",
        "\n",
        "    ## Calculate loss loss_fn defined with network output and labels from dataset\n",
        "    loss = loss_fn(class_scores, train_labels)\n",
        "    loss_list.append(loss)## FILL HERE\n",
        "\n",
        "\n",
        "    ## Take an optimization step (don't forget to clear the gradients first)\n",
        "    ################ FILL HERE ####################################\n",
        "    # 1-Clear gradients\n",
        "    sgd_optimizer.zero_grad()\n",
        "    # 2-Compute gradients using loss\n",
        "    loss.backward()\n",
        "    # 3-Take a gradient descent step using optimizer\n",
        "    sgd_optimizer.step()\n",
        "    ###############################################################\n",
        "\n",
        ""
      ],
      "execution_count": null,
      "outputs": []
    },
    {
      "cell_type": "code",
      "metadata": {
        "colab": {
          "base_uri": "https://localhost:8080/",
          "height": 280
        },
        "id": "aI6rnPUV0hcR",
        "outputId": "518e4f15-a2a7-41c7-c9e9-20b909e820d1"
      },
      "source": [
        "# Helper for plotting the loss graph smoothly.\n",
        "def plot_loss_graph(loss_list):\n",
        "    filter_size = 10\n",
        "    moving_average_filter = [1/filter_size] * filter_size\n",
        "    smoothed_loss_list = np.convolve(loss_list, moving_average_filter, 'valid')\n",
        "    plt.figure()\n",
        "    plt.xlabel('Iterations')\n",
        "    plt.ylabel('Loss')\n",
        "    plt.plot(smoothed_loss_list)\n",
        "\n",
        "plot_loss_graph(loss_list)\n"
      ],
      "execution_count": null,
      "outputs": [
        {
          "output_type": "display_data",
          "data": {
            "image/png": "[encoded data removed]",
            "text/plain": [
              "<Figure size 432x288 with 1 Axes>"
            ]
          },
          "metadata": {
            "needs_background": "light"
          }
        }
      ]
    },
    {
      "cell_type": "code",
      "metadata": {
        "colab": {
          "base_uri": "https://localhost:8080/"
        },
        "id": "0JvVTXat0hcV",
        "outputId": "90030896-e7a2-4d62-e275-e9aa797c52e0"
      },
      "source": [
        "## Test your network's accuracy on the test set\n",
        "\n",
        "# Prepare test set\n",
        "mnist_test = torchvision.datasets.MNIST('./', train=False, download=True, transform=torchvision.transforms.ToTensor())\n",
        "test_dataloader = DataLoader(mnist_test, batch_size=32, shuffle=False)\n",
        "\n",
        "\n",
        "true_predictions = 0\n",
        "false_predictions = 0\n",
        "for test_images, test_labels in test_dataloader:\n",
        "    ## Move batch to GPU\n",
        "    test_images, test_labels = test_images.cuda(), test_labels.cuda()\n",
        "\n",
        "    ## Flatten the images from [BATCH, 1, 28, 28] to [BATCH, 784]\n",
        "    flat_images = test_images.reshape(-1, 784)\n",
        "\n",
        "    ## Run the network with flattened images\n",
        "    class_scores = one_layer_net(flat_images) ## Fill Here\n",
        "\n",
        "    ## Extract predictions from class_scores using torch.argmax() method\n",
        "    class_predictions = torch.argmax(class_scores, dim=-1)## FILL HERE ##\n",
        "\n",
        "    ## Find the number of true predictions in the batch using test_labels and class_predictions\n",
        "    true_predictions_batch  = torch.sum(class_predictions == test_labels)\n",
        "    false_predictions_batch = torch.sum(class_predictions != test_labels)\n",
        "\n",
        "    true_predictions  += true_predictions_batch.item()\n",
        "    false_predictions += false_predictions_batch.item()\n",
        "\n",
        "accuracy = true_predictions / (true_predictions + false_predictions)\n",
        "print(f'Accuracy = {accuracy*100}%')\n",
        ""
      ],
      "execution_count": null,
      "outputs": [
        {
          "output_type": "stream",
          "name": "stdout",
          "text": [
            "Accuracy = 83.62%\n"
          ]
        }
      ]
    },
    {
      "cell_type": "markdown",
      "metadata": {
        "id": "iPdLwfbPSjwL"
      },
      "source": []
    }
  ]
}